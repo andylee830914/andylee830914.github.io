{
  "cells": [
    {
      "cell_type": "markdown",
      "metadata": {
        "id": "GC94vZtH6WMR"
      },
      "source": [
        "步驟一：安裝 flask"
      ]
    },
    {
      "cell_type": "code",
      "execution_count": null,
      "metadata": {
        "colab": {
          "base_uri": "https://localhost:8080/"
        },
        "id": "Ty5LIjdjDcWm",
        "outputId": "60f5aca8-ceb3-43a1-a27a-bb6df2089d17"
      },
      "outputs": [],
      "source": [
        "!pip install flask"
      ]
    },
    {
      "cell_type": "markdown",
      "metadata": {
        "id": "UTlAXHbu6dax"
      },
      "source": [
        "步驟二：引入 flask"
      ]
    },
    {
      "cell_type": "code",
      "execution_count": null,
      "metadata": {
        "id": "26btbPxnEXlJ"
      },
      "outputs": [],
      "source": [
        "from flask import Flask, request\n",
        "from markupsafe import escape"
      ]
    },
    {
      "cell_type": "markdown",
      "metadata": {
        "id": "hQX3tkCU6pkQ"
      },
      "source": [
        "步驟三：路由撰寫"
      ]
    },
    {
      "cell_type": "code",
      "execution_count": null,
      "metadata": {
        "id": "uhSrdZNwrltW"
      },
      "outputs": [],
      "source": [
        "app = Flask(__name__)\n",
        "# Define Flask routes\n",
        "@app.route(\"/\")\n",
        "def index():\n",
        "    return \"Hello World\"\n",
        "\n",
        "@app.route(\"/hello\")\n",
        "def bighello():\n",
        "    return \"<h1>Hello from Colab!</h1>\"\n",
        "\n",
        "@app.route('/user', methods=['GET'])\n",
        "def show_user_profile():\n",
        "    username = request.args.get('username')\n",
        "    return '<html><body><h1>hello {}</h1></body></html>'.format(username)\n",
        "\n",
        "@app.route('/user_escape', methods=['GET'])\n",
        "def show_user_profile_escape():\n",
        "    username = request.args.get('username')\n",
        "    return '<html><body><h1>hello {}</h1></body></html>'.format(escape(username))\n",
        "\n",
        "@app.route('/calc', methods=['GET'])\n",
        "def my_calc():\n",
        "  expr = request.args.get('expr')\n",
        "  return \"{}={}\".format(expr,eval(expr))\n"
      ]
    },
    {
      "cell_type": "markdown",
      "metadata": {
        "id": "wYwykd6M6xhA"
      },
      "source": [
        "步驟四：啟用 server 及對外連線"
      ]
    },
    {
      "cell_type": "code",
      "execution_count": null,
      "metadata": {
        "colab": {
          "base_uri": "https://localhost:8080/"
        },
        "id": "4zlgdm2OEegI",
        "outputId": "1abd207c-d026-40af-b7ee-eea395466618"
      },
      "outputs": [],
      "source": [
        "import multiprocessing\n",
        "proc = multiprocessing.Process(target=app.run, kwargs=dict(use_reloader=False))\n",
        "proc.start()\n",
        "!ssh  -o \"StrictHostKeyChecking no\" -R 80:localhost:5000 serveo.net"
      ]
    },
    {
      "cell_type": "code",
      "execution_count": null,
      "metadata": {
        "id": "xI3PeSgbEupE"
      },
      "outputs": [],
      "source": [
        "proc.terminate()"
      ]
    },
    {
      "cell_type": "code",
      "execution_count": null,
      "metadata": {
        "id": "GigejiQn5n9C"
      },
      "outputs": [],
      "source": []
    }
  ],
  "metadata": {
    "colab": {
      "provenance": []
    },
    "kernelspec": {
      "display_name": "Python 3",
      "name": "python3"
    },
    "language_info": {
      "name": "python"
    }
  },
  "nbformat": 4,
  "nbformat_minor": 0
}
