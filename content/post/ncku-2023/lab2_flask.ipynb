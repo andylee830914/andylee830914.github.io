{
  "cells": [
    {
      "cell_type": "code",
      "execution_count": null,
      "metadata": {
        "colab": {
          "base_uri": "https://localhost:8080/"
        },
        "id": "Ty5LIjdjDcWm",
        "outputId": "114a1075-f721-420f-d5ae-ac5e26b57e1c"
      },
      "outputs": [
        {
          "name": "stdout",
          "output_type": "stream",
          "text": [
            "Requirement already satisfied: flask in /usr/local/lib/python3.10/dist-packages (2.2.5)\n",
            "Requirement already satisfied: Werkzeug>=2.2.2 in /usr/local/lib/python3.10/dist-packages (from flask) (2.3.7)\n",
            "Requirement already satisfied: Jinja2>=3.0 in /usr/local/lib/python3.10/dist-packages (from flask) (3.1.2)\n",
            "Requirement already satisfied: itsdangerous>=2.0 in /usr/local/lib/python3.10/dist-packages (from flask) (2.1.2)\n",
            "Requirement already satisfied: click>=8.0 in /usr/local/lib/python3.10/dist-packages (from flask) (8.1.7)\n",
            "Requirement already satisfied: MarkupSafe>=2.0 in /usr/local/lib/python3.10/dist-packages (from Jinja2>=3.0->flask) (2.1.3)\n"
          ]
        }
      ],
      "source": [
        "!pip install flask"
      ]
    },
    {
      "cell_type": "code",
      "execution_count": null,
      "metadata": {
        "id": "26btbPxnEXlJ"
      },
      "outputs": [],
      "source": [
        "import os\n",
        "import multiprocessing\n",
        "from flask import Flask, request\n",
        "app = Flask(__name__)\n",
        "\n",
        "proc = multiprocessing.Process(target=app.run, kwargs=dict(use_reloader=False))"
      ]
    },
    {
      "cell_type": "code",
      "execution_count": null,
      "metadata": {
        "id": "uhSrdZNwrltW"
      },
      "outputs": [],
      "source": [
        "# Define Flask routes\n",
        "@app.route(\"/\")\n",
        "def index():\n",
        "    return \"Hello from Colab!123\"\n",
        "\n",
        "@app.route(\"/hello\")\n",
        "def bighello():\n",
        "    return \"<h1>Hello from Colab!</h1>\"\n",
        "\n",
        "\n",
        "@app.route('/add/<int:a>/<int:b>')\n",
        "def add(a, b):\n",
        "    return str(a + b)\n",
        "\n",
        "@app.route('/value', methods=['GET'])\n",
        "def get_value():\n",
        "    return request.args.get('input', 'No input')"
      ]
    },
    {
      "cell_type": "code",
      "execution_count": null,
      "metadata": {
        "colab": {
          "background_save": true,
          "base_uri": "https://localhost:8080/"
        },
        "id": "4zlgdm2OEegI",
        "outputId": "eb538385-88ea-4946-a4c0-b97416688e6d"
      },
      "outputs": [
        {
          "name": "stdout",
          "output_type": "stream",
          "text": [
            " * Serving Flask app '__main__'\n",
            " * Debug mode: off\n"
          ]
        },
        {
          "name": "stderr",
          "output_type": "stream",
          "text": [
            "INFO:werkzeug:\u001b[31m\u001b[1mWARNING: This is a development server. Do not use it in a production deployment. Use a production WSGI server instead.\u001b[0m\n",
            " * Running on http://127.0.0.1:5000\n",
            "INFO:werkzeug:\u001b[33mPress CTRL+C to quit\u001b[0m\n"
          ]
        },
        {
          "name": "stdout",
          "output_type": "stream",
          "text": [
            "\u001b[32mForwarding HTTP traffic from https://astrum.serveo.net\r\n",
            "\u001b[0m"
          ]
        },
        {
          "name": "stderr",
          "output_type": "stream",
          "text": [
            "INFO:werkzeug:127.0.0.1 - - [23/Sep/2023 06:16:23] \"GET /add/100/200 HTTP/1.1\" 200 -\n"
          ]
        },
        {
          "name": "stdout",
          "output_type": "stream",
          "text": [
            "HTTP request from 125.227.105.200 to https://astrum.serveo.net/add/100/200\r\n"
          ]
        },
        {
          "name": "stderr",
          "output_type": "stream",
          "text": [
            "INFO:werkzeug:127.0.0.1 - - [23/Sep/2023 06:16:34] \"GET /value?input=123 HTTP/1.1\" 200 -\n"
          ]
        },
        {
          "name": "stdout",
          "output_type": "stream",
          "text": [
            "HTTP request from 125.227.105.200 to https://astrum.serveo.net/value?input=123\n",
            "HTTP request from 125.227.105.200 to https://astrum.serveo.net/value?input=1232323\n"
          ]
        },
        {
          "name": "stderr",
          "output_type": "stream",
          "text": [
            "INFO:werkzeug:127.0.0.1 - - [23/Sep/2023 06:16:38] \"GET /value?input=1232323 HTTP/1.1\" 200 -\n"
          ]
        },
        {
          "name": "stdout",
          "output_type": "stream",
          "text": [
            "Connection to serveo.net closed by remote host.\r\n",
            "Connection to serveo.net closed.\r\n"
          ]
        }
      ],
      "source": [
        "proc.start()\n",
        "!ssh  -o \"StrictHostKeyChecking no\" -R 80:localhost:5000 serveo.net"
      ]
    },
    {
      "cell_type": "code",
      "execution_count": null,
      "metadata": {
        "id": "xI3PeSgbEupE"
      },
      "outputs": [],
      "source": [
        "proc.terminate()"
      ]
    },
    {
      "cell_type": "code",
      "execution_count": null,
      "metadata": {
        "id": "eC_SoJq9GkVI"
      },
      "outputs": [],
      "source": []
    }
  ],
  "metadata": {
    "colab": {
      "provenance": []
    },
    "kernelspec": {
      "display_name": "Python 3",
      "name": "python3"
    },
    "language_info": {
      "name": "python"
    }
  },
  "nbformat": 4,
  "nbformat_minor": 0
}