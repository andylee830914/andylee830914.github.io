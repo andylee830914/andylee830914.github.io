{
  "cells": [
    {
      "cell_type": "markdown",
      "source": [
        "步驟一：安裝 flask"
      ],
      "metadata": {
        "id": "GC94vZtH6WMR"
      }
    },
    {
      "cell_type": "code",
      "execution_count": null,
      "metadata": {
        "id": "Ty5LIjdjDcWm"
      },
      "outputs": [],
      "source": [
        "!pip install flask"
      ]
    },
    {
      "cell_type": "markdown",
      "source": [
        "步驟二：引入 flask"
      ],
      "metadata": {
        "id": "UTlAXHbu6dax"
      }
    },
    {
      "cell_type": "code",
      "execution_count": 2,
      "metadata": {
        "id": "26btbPxnEXlJ"
      },
      "outputs": [],
      "source": [
        "from flask import Flask, request"
      ]
    },
    {
      "cell_type": "markdown",
      "source": [
        "步驟三：路由撰寫"
      ],
      "metadata": {
        "id": "hQX3tkCU6pkQ"
      }
    },
    {
      "cell_type": "code",
      "execution_count": 3,
      "metadata": {
        "id": "uhSrdZNwrltW"
      },
      "outputs": [],
      "source": [
        "app = Flask(__name__)\n",
        "# Define Flask routes\n",
        "@app.route(\"/\")\n",
        "def index():\n",
        "    return \"Hello World\""
      ]
    },
    {
      "cell_type": "markdown",
      "source": [
        "步驟四：啟用 server 及對外連線"
      ],
      "metadata": {
        "id": "wYwykd6M6xhA"
      }
    },
    {
      "cell_type": "code",
      "execution_count": null,
      "metadata": {
        "id": "4zlgdm2OEegI"
      },
      "outputs": [],
      "source": [
        "import multiprocessing\n",
        "proc = multiprocessing.Process(target=app.run, kwargs=dict(use_reloader=False))\n",
        "proc.start()\n",
        "!ssh  -o \"StrictHostKeyChecking no\" -R 80:localhost:5000 serveo.net"
      ]
    },
    {
      "cell_type": "code",
      "execution_count": 7,
      "metadata": {
        "id": "xI3PeSgbEupE"
      },
      "outputs": [],
      "source": [
        "proc.terminate()"
      ]
    },
    {
      "cell_type": "code",
      "source": [],
      "metadata": {
        "id": "GigejiQn5n9C"
      },
      "execution_count": null,
      "outputs": []
    }
  ],
  "metadata": {
    "colab": {
      "provenance": []
    },
    "kernelspec": {
      "display_name": "Python 3",
      "name": "python3"
    },
    "language_info": {
      "name": "python"
    }
  },
  "nbformat": 4,
  "nbformat_minor": 0
}